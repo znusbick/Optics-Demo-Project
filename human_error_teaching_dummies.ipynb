{
  "nbformat": 4,
  "nbformat_minor": 0,
  "metadata": {
    "colab": {
      "name": "human_error_teaching_dummies.ipynb",
      "provenance": [],
      "collapsed_sections": []
    },
    "kernelspec": {
      "name": "python3",
      "display_name": "Python 3"
    },
    "language_info": {
      "name": "python"
    }
  },
  "cells": [
    {
      "cell_type": "markdown",
      "metadata": {
        "id": "7r9CXIAtC1MI"
      },
      "source": [
        "# Using Python with Matplotlib\n",
        "## Learning Python\n",
        "### Data Types\n",
        "The basis of all programming languages is data.  They serve as a tool to input, alter, compare, and output data.  Whenever we run a program, the computer is simply just reading things from the file, reading inputs you do on your keyboard and mouse, and outputting things.\n",
        "\n",
        "To distinguish between different types of data, python represents it depending on what it is.  These are broken into a few groups as follows:\n",
        "\n",
        "#### **1: Ints**\n",
        "Ints, or integers, are one of the most standard data types in python.  They represent any number that doesn't have a decimal point.  This could be 432, 323, 134, 53243, 34, 0, 1, etc.\n",
        "\n",
        "#### **2: Floats**\n",
        "FLoats, or floating point numbers, are\n",
        "\n",
        "#### **3: Strings**\n",
        "\n",
        "#### **4: Lists**\n",
        "\n",
        "#### **Variables**\n",
        "Variables aren't necessarily a data type, but are what we use to store and reference data we want to keep track of. We can create a variable by using any combination of letters and underscores and following it by the = sign, as below:"
      ]
    },
    {
      "cell_type": "code",
      "metadata": {
        "id": "e8A3kZFJE3E3"
      },
      "source": [
        "x = 5\n",
        "y = \"hello\"\n",
        "z = 'what'\n",
        "asdf = 234.00303\n",
        "lst = [13, 13.23, \"world\", y, z, 23.]"
      ],
      "execution_count": null,
      "outputs": []
    },
    {
      "cell_type": "markdown",
      "metadata": {
        "id": "YPQX7B2RFG9U"
      },
      "source": [
        "To reference any of these varaibles later in the code, we just type the name.  We can even see an example of this when I made the lst variable.  It includes a lot of the data types we talked about before, and then it also includes the names of y and z, two varaibles we previously made.  Just like any data type, they can be added to a list."
      ]
    },
    {
      "cell_type": "markdown",
      "metadata": {
        "id": "tkNF3ZWGF-js"
      },
      "source": [
        "### Basic Operations\n",
        "\n",
        "Within python, there's a lot of basic things that can help you work with data.  Python as regular calculator functionality, such as adding, subtracting, multiplying, dividing, and raising things to powers:"
      ]
    },
    {
      "cell_type": "code",
      "metadata": {
        "colab": {
          "base_uri": "https://localhost:8080/"
        },
        "id": "E9UN3tsPHFi1",
        "outputId": "fc12154a-5924-4dee-9519-71765727b862"
      },
      "source": [
        "5 + 4"
      ],
      "execution_count": null,
      "outputs": [
        {
          "output_type": "execute_result",
          "data": {
            "text/plain": [
              "9"
            ]
          },
          "metadata": {},
          "execution_count": 2
        }
      ]
    },
    {
      "cell_type": "code",
      "metadata": {
        "colab": {
          "base_uri": "https://localhost:8080/"
        },
        "id": "h_nWP2X5HIRc",
        "outputId": "a61e5e85-b080-406d-90a8-1b1f1048642a"
      },
      "source": [
        "12 / 3"
      ],
      "execution_count": null,
      "outputs": [
        {
          "output_type": "execute_result",
          "data": {
            "text/plain": [
              "4.0"
            ]
          },
          "metadata": {},
          "execution_count": 3
        }
      ]
    },
    {
      "cell_type": "code",
      "metadata": {
        "id": "WgIFuSgvHKVC",
        "colab": {
          "base_uri": "https://localhost:8080/"
        },
        "outputId": "d259e8a7-433d-48be-dd8a-d4683d32676d"
      },
      "source": [
        "4 * 5"
      ],
      "execution_count": null,
      "outputs": [
        {
          "output_type": "execute_result",
          "data": {
            "text/plain": [
              "20"
            ]
          },
          "metadata": {},
          "execution_count": 4
        }
      ]
    },
    {
      "cell_type": "code",
      "metadata": {
        "id": "mdh4UsxFHMVP",
        "colab": {
          "base_uri": "https://localhost:8080/"
        },
        "outputId": "f155c63b-b784-44bb-d521-40b6a1ea7da8"
      },
      "source": [
        "3 - 8"
      ],
      "execution_count": null,
      "outputs": [
        {
          "output_type": "execute_result",
          "data": {
            "text/plain": [
              "-5"
            ]
          },
          "metadata": {},
          "execution_count": 5
        }
      ]
    },
    {
      "cell_type": "code",
      "metadata": {
        "id": "tDPl3ZGEHO6m",
        "colab": {
          "base_uri": "https://localhost:8080/"
        },
        "outputId": "e69e76a7-8a7f-40eb-d9f7-e68dde0d9e79"
      },
      "source": [
        "2 ** 3"
      ],
      "execution_count": null,
      "outputs": [
        {
          "output_type": "execute_result",
          "data": {
            "text/plain": [
              "8"
            ]
          },
          "metadata": {},
          "execution_count": 6
        }
      ]
    },
    {
      "cell_type": "markdown",
      "metadata": {
        "id": "dtqhV4SVHEtO"
      },
      "source": [
        ""
      ]
    },
    {
      "cell_type": "code",
      "metadata": {
        "id": "TekI8hbhFDTo"
      },
      "source": [
        ""
      ],
      "execution_count": null,
      "outputs": []
    }
  ]
}